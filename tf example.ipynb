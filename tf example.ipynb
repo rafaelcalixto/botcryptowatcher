{
 "cells": [
  {
   "cell_type": "code",
   "execution_count": 1,
   "id": "ab9f9b9d",
   "metadata": {},
   "outputs": [
    {
     "name": "stderr",
     "output_type": "stream",
     "text": [
      "2022-02-16 20:19:22.450081: W tensorflow/stream_executor/platform/default/dso_loader.cc:64] Could not load dynamic library 'libcudart.so.11.0'; dlerror: libcudart.so.11.0: cannot open shared object file: No such file or directory\n",
      "2022-02-16 20:19:22.450135: I tensorflow/stream_executor/cuda/cudart_stub.cc:29] Ignore above cudart dlerror if you do not have a GPU set up on your machine.\n"
     ]
    }
   ],
   "source": [
    "import os\n",
    "import tensorflow as tf\n",
    "import tensorflow_datasets as tfds\n",
    "import matplotlib.pyplot as plt"
   ]
  },
  {
   "cell_type": "code",
   "execution_count": 6,
   "id": "678620a8",
   "metadata": {},
   "outputs": [
    {
     "name": "stderr",
     "output_type": "stream",
     "text": [
      "2022-02-16 22:31:43.385357: W tensorflow/core/platform/cloud/google_auth_provider.cc:184] All attempts to get a Google authentication bearer token failed, returning an empty token. Retrieving token from files failed with \"NOT_FOUND: Could not locate the credentials file.\". Retrieving token from GCE failed with \"FAILED_PRECONDITION: Error executing an HTTP request: libcurl code 6 meaning 'Couldn't resolve host name', error details: Could not resolve host: metadata\".\n"
     ]
    },
    {
     "name": "stdout",
     "output_type": "stream",
     "text": [
      "\u001b[1mDownloading and preparing dataset 25.05 KiB (download: 25.05 KiB, generated: 17.61 KiB, total: 42.66 KiB) to /home/calixto/tensorflow_datasets/penguins/processed/1.0.0...\u001b[0m\n"
     ]
    },
    {
     "data": {
      "application/vnd.jupyter.widget-view+json": {
       "model_id": "1734730d56e5487dae31aaab5f2bc3be",
       "version_major": 2,
       "version_minor": 0
      },
      "text/plain": [
       "Dl Completed...: 0 url [00:00, ? url/s]"
      ]
     },
     "metadata": {},
     "output_type": "display_data"
    },
    {
     "data": {
      "application/vnd.jupyter.widget-view+json": {
       "model_id": "738aee9255b34aac925905e6759edbab",
       "version_major": 2,
       "version_minor": 0
      },
      "text/plain": [
       "Dl Size...: 0 MiB [00:00, ? MiB/s]"
      ]
     },
     "metadata": {},
     "output_type": "display_data"
    },
    {
     "data": {
      "application/vnd.jupyter.widget-view+json": {
       "model_id": "",
       "version_major": 2,
       "version_minor": 0
      },
      "text/plain": [
       "Generating splits...:   0%|          | 0/1 [00:00<?, ? splits/s]"
      ]
     },
     "metadata": {},
     "output_type": "display_data"
    },
    {
     "data": {
      "application/vnd.jupyter.widget-view+json": {
       "model_id": "",
       "version_major": 2,
       "version_minor": 0
      },
      "text/plain": [
       "Generating train examples...:   0%|          | 0/334 [00:00<?, ? examples/s]"
      ]
     },
     "metadata": {},
     "output_type": "display_data"
    },
    {
     "data": {
      "application/vnd.jupyter.widget-view+json": {
       "model_id": "",
       "version_major": 2,
       "version_minor": 0
      },
      "text/plain": [
       "Shuffling /home/calixto/tensorflow_datasets/penguins/processed/1.0.0.incomplete3M5X0A/penguins-train.tfrecord*…"
      ]
     },
     "metadata": {},
     "output_type": "display_data"
    },
    {
     "name": "stdout",
     "output_type": "stream",
     "text": [
      "\u001b[1mDataset penguins downloaded and prepared to /home/calixto/tensorflow_datasets/penguins/processed/1.0.0. Subsequent calls will reuse this data.\u001b[0m\n"
     ]
    }
   ],
   "source": [
    "ds_preview, info = tfds.load(\"penguins/processed\", split=[\"train[:20%]\", \"train[20%:]\"], as_supervised=True, with_info=True)"
   ]
  },
  {
   "cell_type": "code",
   "execution_count": 14,
   "id": "3390fb73",
   "metadata": {},
   "outputs": [],
   "source": [
    "ds_test = ds_preview[0]\n",
    "ds_train = ds_preview[1]\n",
    "assert isinstance(ds_test, tf.data.Dataset)"
   ]
  },
  {
   "cell_type": "code",
   "execution_count": 15,
   "id": "4a85163d",
   "metadata": {},
   "outputs": [
    {
     "data": {
      "text/plain": [
       "FeaturesDict({\n",
       "    'features': Tensor(shape=(4,), dtype=tf.float32),\n",
       "    'species': ClassLabel(shape=(), dtype=tf.int64, num_classes=3),\n",
       "})"
      ]
     },
     "execution_count": 15,
     "metadata": {},
     "output_type": "execute_result"
    }
   ],
   "source": [
    "info.features"
   ]
  },
  {
   "cell_type": "code",
   "execution_count": 16,
   "id": "bdf2012d",
   "metadata": {},
   "outputs": [
    {
     "name": "stderr",
     "output_type": "stream",
     "text": [
      "2022-02-16 22:35:14.072089: W tensorflow/core/kernels/data/cache_dataset_ops.cc:768] The calling iterator did not fully read the dataset being cached. In order to avoid unexpected truncation of the dataset, the partially cached contents of the dataset  will be discarded. This can happen if you have an input pipeline similar to `dataset.cache().take(k).repeat()`. You should use `dataset.take(k).cache().repeat()` instead.\n"
     ]
    },
    {
     "data": {
      "text/html": [
       "<style type=\"text/css\">\n",
       "</style>\n",
       "<table id=\"T_97cc4\">\n",
       "  <thead>\n",
       "    <tr>\n",
       "      <th class=\"blank level0\" >&nbsp;</th>\n",
       "      <th id=\"T_97cc4_level0_col0\" class=\"col_heading level0 col0\" >features</th>\n",
       "      <th id=\"T_97cc4_level0_col1\" class=\"col_heading level0 col1\" >species</th>\n",
       "    </tr>\n",
       "  </thead>\n",
       "  <tbody>\n",
       "    <tr>\n",
       "      <th id=\"T_97cc4_level0_row0\" class=\"row_heading level0 row0\" >0</th>\n",
       "      <td id=\"T_97cc4_row0_col0\" class=\"data row0 col0\" >ndarray(shape=(4,), dtype=float32)</td>\n",
       "      <td id=\"T_97cc4_row0_col1\" class=\"data row0 col1\" >2</td>\n",
       "    </tr>\n",
       "    <tr>\n",
       "      <th id=\"T_97cc4_level0_row1\" class=\"row_heading level0 row1\" >1</th>\n",
       "      <td id=\"T_97cc4_row1_col0\" class=\"data row1 col0\" >ndarray(shape=(4,), dtype=float32)</td>\n",
       "      <td id=\"T_97cc4_row1_col1\" class=\"data row1 col1\" >2</td>\n",
       "    </tr>\n",
       "    <tr>\n",
       "      <th id=\"T_97cc4_level0_row2\" class=\"row_heading level0 row2\" >2</th>\n",
       "      <td id=\"T_97cc4_row2_col0\" class=\"data row2 col0\" >ndarray(shape=(4,), dtype=float32)</td>\n",
       "      <td id=\"T_97cc4_row2_col1\" class=\"data row2 col1\" >2</td>\n",
       "    </tr>\n",
       "    <tr>\n",
       "      <th id=\"T_97cc4_level0_row3\" class=\"row_heading level0 row3\" >3</th>\n",
       "      <td id=\"T_97cc4_row3_col0\" class=\"data row3 col0\" >ndarray(shape=(4,), dtype=float32)</td>\n",
       "      <td id=\"T_97cc4_row3_col1\" class=\"data row3 col1\" >2</td>\n",
       "    </tr>\n",
       "    <tr>\n",
       "      <th id=\"T_97cc4_level0_row4\" class=\"row_heading level0 row4\" >4</th>\n",
       "      <td id=\"T_97cc4_row4_col0\" class=\"data row4 col0\" >ndarray(shape=(4,), dtype=float32)</td>\n",
       "      <td id=\"T_97cc4_row4_col1\" class=\"data row4 col1\" >2</td>\n",
       "    </tr>\n",
       "  </tbody>\n",
       "</table>\n"
      ],
      "text/plain": [
       "                                         features  species\n",
       "0  [0.6545454, 0.22619048, 0.89830506, 0.6388889]        2\n",
       "1        [0.36, 0.04761905, 0.6440678, 0.4027778]        2\n",
       "2       [0.68, 0.30952382, 0.91525424, 0.6944444]        2\n",
       "3   [0.6181818, 0.20238096, 0.8135593, 0.6805556]        2\n",
       "4  [0.5527273, 0.26190478, 0.84745765, 0.7083333]        2"
      ]
     },
     "execution_count": 16,
     "metadata": {},
     "output_type": "execute_result"
    }
   ],
   "source": [
    "df_test = tfds.as_dataframe(ds_test.take(5), info)\n",
    "df_test"
   ]
  },
  {
   "cell_type": "code",
   "execution_count": 17,
   "id": "f2f61ff6",
   "metadata": {},
   "outputs": [
    {
     "name": "stderr",
     "output_type": "stream",
     "text": [
      "2022-02-16 22:35:56.675243: W tensorflow/core/kernels/data/cache_dataset_ops.cc:768] The calling iterator did not fully read the dataset being cached. In order to avoid unexpected truncation of the dataset, the partially cached contents of the dataset  will be discarded. This can happen if you have an input pipeline similar to `dataset.cache().take(k).repeat()`. You should use `dataset.take(k).cache().repeat()` instead.\n"
     ]
    },
    {
     "data": {
      "text/html": [
       "<style type=\"text/css\">\n",
       "</style>\n",
       "<table id=\"T_a7974\">\n",
       "  <thead>\n",
       "    <tr>\n",
       "      <th class=\"blank level0\" >&nbsp;</th>\n",
       "      <th id=\"T_a7974_level0_col0\" class=\"col_heading level0 col0\" >features</th>\n",
       "      <th id=\"T_a7974_level0_col1\" class=\"col_heading level0 col1\" >species</th>\n",
       "    </tr>\n",
       "  </thead>\n",
       "  <tbody>\n",
       "    <tr>\n",
       "      <th id=\"T_a7974_level0_row0\" class=\"row_heading level0 row0\" >0</th>\n",
       "      <td id=\"T_a7974_row0_col0\" class=\"data row0 col0\" >ndarray(shape=(4,), dtype=float32)</td>\n",
       "      <td id=\"T_a7974_row0_col1\" class=\"data row0 col1\" >0</td>\n",
       "    </tr>\n",
       "    <tr>\n",
       "      <th id=\"T_a7974_level0_row1\" class=\"row_heading level0 row1\" >1</th>\n",
       "      <td id=\"T_a7974_row1_col0\" class=\"data row1 col0\" >ndarray(shape=(4,), dtype=float32)</td>\n",
       "      <td id=\"T_a7974_row1_col1\" class=\"data row1 col1\" >2</td>\n",
       "    </tr>\n",
       "    <tr>\n",
       "      <th id=\"T_a7974_level0_row2\" class=\"row_heading level0 row2\" >2</th>\n",
       "      <td id=\"T_a7974_row2_col0\" class=\"data row2 col0\" >ndarray(shape=(4,), dtype=float32)</td>\n",
       "      <td id=\"T_a7974_row2_col1\" class=\"data row2 col1\" >1</td>\n",
       "    </tr>\n",
       "    <tr>\n",
       "      <th id=\"T_a7974_level0_row3\" class=\"row_heading level0 row3\" >3</th>\n",
       "      <td id=\"T_a7974_row3_col0\" class=\"data row3 col0\" >ndarray(shape=(4,), dtype=float32)</td>\n",
       "      <td id=\"T_a7974_row3_col1\" class=\"data row3 col1\" >0</td>\n",
       "    </tr>\n",
       "    <tr>\n",
       "      <th id=\"T_a7974_level0_row4\" class=\"row_heading level0 row4\" >4</th>\n",
       "      <td id=\"T_a7974_row4_col0\" class=\"data row4 col0\" >ndarray(shape=(4,), dtype=float32)</td>\n",
       "      <td id=\"T_a7974_row4_col1\" class=\"data row4 col1\" >0</td>\n",
       "    </tr>\n",
       "  </tbody>\n",
       "</table>\n"
      ],
      "text/plain": [
       "                                         features  species\n",
       "0  [0.49818182, 0.6904762, 0.42372882, 0.4027778]        0\n",
       "1      [0.48, 0.071428575, 0.6440678, 0.44444445]        2\n",
       "2    [0.7236364, 0.9047619, 0.6440678, 0.5833333]        1\n",
       "3  [0.34545454, 0.5833333, 0.33898306, 0.3472222]        0\n",
       "4       [0.10909091, 0.75, 0.3559322, 0.41666666]        0"
      ]
     },
     "execution_count": 17,
     "metadata": {},
     "output_type": "execute_result"
    }
   ],
   "source": [
    "df_train = tfds.as_dataframe(ds_train.take(5), info)\n",
    "df_train"
   ]
  },
  {
   "cell_type": "code",
   "execution_count": 18,
   "id": "4109c61c",
   "metadata": {},
   "outputs": [],
   "source": [
    "ds_train_batch = ds_train.batch(32)"
   ]
  },
  {
   "cell_type": "code",
   "execution_count": 19,
   "id": "6a898948",
   "metadata": {},
   "outputs": [
    {
     "name": "stderr",
     "output_type": "stream",
     "text": [
      "2022-02-16 22:38:36.643408: W tensorflow/core/kernels/data/cache_dataset_ops.cc:768] The calling iterator did not fully read the dataset being cached. In order to avoid unexpected truncation of the dataset, the partially cached contents of the dataset  will be discarded. This can happen if you have an input pipeline similar to `dataset.cache().take(k).repeat()`. You should use `dataset.take(k).cache().repeat()` instead.\n"
     ]
    }
   ],
   "source": [
    "features, labels = next(iter(ds_train_batch))"
   ]
  },
  {
   "cell_type": "code",
   "execution_count": 20,
   "id": "599917e2",
   "metadata": {},
   "outputs": [
    {
     "data": {
      "text/plain": [
       "<tf.Tensor: shape=(32, 4), dtype=float32, numpy=\n",
       "array([[0.49818182, 0.6904762 , 0.42372882, 0.4027778 ],\n",
       "       [0.48      , 0.07142857, 0.6440678 , 0.44444445],\n",
       "       [0.7236364 , 0.9047619 , 0.6440678 , 0.5833333 ],\n",
       "       [0.34545454, 0.5833333 , 0.33898306, 0.3472222 ],\n",
       "       [0.10909091, 0.75      , 0.3559322 , 0.41666666],\n",
       "       [0.6690909 , 0.63095236, 0.47457626, 0.19444445],\n",
       "       [0.8036364 , 0.9166667 , 0.4915254 , 0.44444445],\n",
       "       [0.4909091 , 0.75      , 0.37288135, 0.22916667],\n",
       "       [0.33454546, 0.85714287, 0.37288135, 0.2361111 ],\n",
       "       [0.32      , 0.41666666, 0.2542373 , 0.1388889 ],\n",
       "       [0.41454545, 0.5952381 , 0.5084746 , 0.19444445],\n",
       "       [0.14909092, 0.48809522, 0.2542373 , 0.125     ],\n",
       "       [0.23636363, 0.4642857 , 0.27118644, 0.05555556],\n",
       "       [0.22181818, 0.5952381 , 0.22033899, 0.3472222 ],\n",
       "       [0.24727273, 0.5595238 , 0.15254237, 0.25694445],\n",
       "       [0.63272727, 0.35714287, 0.88135594, 0.8194444 ],\n",
       "       [0.47272727, 0.15476191, 0.6440678 , 0.4722222 ],\n",
       "       [0.6036364 , 0.23809524, 0.84745765, 0.7361111 ],\n",
       "       [0.26909092, 0.5595238 , 0.27118644, 0.16666667],\n",
       "       [0.28      , 0.71428573, 0.20338982, 0.5416667 ],\n",
       "       [0.10545454, 0.5714286 , 0.33898306, 0.2847222 ],\n",
       "       [0.18545455, 0.5952381 , 0.10169491, 0.33333334],\n",
       "       [0.47272727, 0.16666667, 0.7288136 , 0.6388889 ],\n",
       "       [0.45090908, 0.1904762 , 0.7118644 , 0.5972222 ],\n",
       "       [0.49454546, 0.5       , 0.3559322 , 0.25      ],\n",
       "       [0.6363636 , 0.22619048, 0.7457627 , 0.5694444 ],\n",
       "       [0.08727273, 0.5952381 , 0.2542373 , 0.05555556],\n",
       "       [0.52      , 0.22619048, 0.7457627 , 0.5555556 ],\n",
       "       [0.5090909 , 0.23809524, 0.7288136 , 0.6666667 ],\n",
       "       [0.56      , 0.22619048, 0.779661  , 0.625     ],\n",
       "       [0.6363636 , 0.3452381 , 0.89830506, 0.8333333 ],\n",
       "       [0.15636364, 0.47619048, 0.20338982, 0.04166667]], dtype=float32)>"
      ]
     },
     "execution_count": 20,
     "metadata": {},
     "output_type": "execute_result"
    }
   ],
   "source": [
    "features"
   ]
  },
  {
   "cell_type": "code",
   "execution_count": 21,
   "id": "a1a37cb5",
   "metadata": {},
   "outputs": [
    {
     "data": {
      "text/plain": [
       "<tf.Tensor: shape=(32,), dtype=int64, numpy=\n",
       "array([0, 2, 1, 0, 0, 1, 1, 1, 0, 1, 1, 0, 0, 0, 0, 2, 2, 2, 0, 0, 0, 0,\n",
       "       2, 2, 1, 2, 0, 2, 2, 2, 2, 0])>"
      ]
     },
     "execution_count": 21,
     "metadata": {},
     "output_type": "execute_result"
    }
   ],
   "source": [
    "labels"
   ]
  },
  {
   "cell_type": "code",
   "execution_count": 23,
   "id": "26b98b7f",
   "metadata": {},
   "outputs": [
    {
     "data": {
      "image/png": "[encoded data removed]",
      "text/plain": [
       "<Figure size 432x288 with 1 Axes>"
      ]
     },
     "metadata": {
      "needs_background": "light"
     },
     "output_type": "display_data"
    }
   ],
   "source": [
    "plt.scatter(features[:,0], features[:,2], c=labels, cmap=\"viridis\")\n",
    "plt.xlabel(\"Body Mass\")\n",
    "plt.ylabel(\"Culmen Length\")\n",
    "plt.show()"
   ]
  },
  {
   "cell_type": "code",
   "execution_count": null,
   "id": "39565128",
   "metadata": {},
   "outputs": [],
   "source": []
  }
 ],
 "metadata": {
  "kernelspec": {
   "display_name": "Python 3 (ipykernel)",
   "language": "python",
   "name": "python3"
  },
  "language_info": {
   "codemirror_mode": {
    "name": "ipython",
    "version": 3
   },
   "file_extension": ".py",
   "mimetype": "text/x-python",
   "name": "python",
   "nbconvert_exporter": "python",
   "pygments_lexer": "ipython3",
   "version": "3.9.10"
  }
 },
 "nbformat": 4,
 "nbformat_minor": 5
}
