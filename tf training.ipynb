{
 "cells": [
  {
   "cell_type": "code",
   "execution_count": 1,
   "id": "59c498e6",
   "metadata": {},
   "outputs": [],
   "source": [
    "%config Completer.use_jedi=False\n",
    "%matplotlib inline"
   ]
  },
  {
   "cell_type": "code",
   "execution_count": 2,
   "id": "490d329d",
   "metadata": {},
   "outputs": [
    {
     "name": "stderr",
     "output_type": "stream",
     "text": [
      "2022-05-01 21:10:28.671589: W tensorflow/stream_executor/platform/default/dso_loader.cc:64] Could not load dynamic library 'libcudart.so.11.0'; dlerror: libcudart.so.11.0: cannot open shared object file: No such file or directory\n",
      "2022-05-01 21:10:28.673611: I tensorflow/stream_executor/cuda/cudart_stub.cc:29] Ignore above cudart dlerror if you do not have a GPU set up on your machine.\n",
      "/tmp/ipykernel_8188/982806629.py:5: FutureWarning: Passing a negative integer is deprecated in version 1.0 and will not be supported in future version. Instead, use None to not limit the column width.\n",
      "  pd.set_option(\"display.max_colwidth\", -1)\n"
     ]
    }
   ],
   "source": [
    "from datasets import load_dataset\n",
    "from labels import mapping\n",
    "\n",
    "import pandas as pd\n",
    "pd.set_option(\"display.max_colwidth\", -1)\n",
    "import numpy as np\n",
    "\n",
    "from matplotlib import pyplot as plt\n",
    "from tqdm.notebook import tqdm\n",
    "\n",
    "from torch.utils.data import DataLoader\n",
    "\n",
    "import tez\n",
    "import torch\n",
    "import torch.nn as nn\n",
    "import transformers\n",
    "from sklearn import metrics, model_selection, preprocessing\n",
    "from transformers import AdamW, get_linear_schedule_with_warmup"
   ]
  },
  {
   "cell_type": "markdown",
   "id": "49b084fd",
   "metadata": {},
   "source": [
    "Load the dataset and split it into train, valid, and test"
   ]
  },
  {
   "cell_type": "code",
   "execution_count": 3,
   "id": "3d32395e",
   "metadata": {},
   "outputs": [
    {
     "name": "stderr",
     "output_type": "stream",
     "text": [
      "No config specified, defaulting to: go_emotions/simplified\n",
      "Reusing dataset go_emotions (/home/calixto/.cache/huggingface/datasets/go_emotions/simplified/0.0.0/2637cfdd4e64d30249c3ed2150fa2b9d279766bfcd6a809b9f085c61a90d776d)\n"
     ]
    },
    {
     "data": {
      "application/vnd.jupyter.widget-view+json": {
       "model_id": "d51ab482c24647f6a2d967b17ae69878",
       "version_major": 2,
       "version_minor": 0
      },
      "text/plain": [
       "  0%|          | 0/3 [00:00<?, ?it/s]"
      ]
     },
     "metadata": {},
     "output_type": "display_data"
    }
   ],
   "source": [
    "go_emotions = load_dataset(\"go_emotions\")\n",
    "\n",
    "data = go_emotions.data\n",
    "\n",
    "train = go_emotions.data[\"train\"].to_pandas()\n",
    "valid = go_emotions.data[\"validation\"].to_pandas()\n",
    "test = go_emotions.data[\"test\"].to_pandas()"
   ]
  },
  {
   "cell_type": "markdown",
   "id": "198d76c0",
   "metadata": {},
   "source": [
    "Convert the dataset to a one-hot representation"
   ]
  },
  {
   "cell_type": "code",
   "execution_count": 4,
   "id": "fd7b116a",
   "metadata": {},
   "outputs": [],
   "source": [
    "n_labels = len(mapping)\n",
    "\n",
    "def one_hot_labels(df):\n",
    "    dict_labels = []\n",
    "    for i in tqdm(range(len(df)), leave=False):\n",
    "        d = dict(zip(range(n_labels), [0]*n_labels))\n",
    "        labels = df.loc[i][\"labels\"]\n",
    "        for label in labels:\n",
    "            d[label] = 1\n",
    "        dict_labels.append(d)\n",
    "    df_labels = pd.DataFrame(dict_labels)\n",
    "    return df_labels"
   ]
  },
  {
   "cell_type": "code",
   "execution_count": 5,
   "id": "f410ae4f",
   "metadata": {},
   "outputs": [
    {
     "data": {
      "application/vnd.jupyter.widget-view+json": {
       "model_id": "",
       "version_major": 2,
       "version_minor": 0
      },
      "text/plain": [
       "  0%|          | 0/43410 [00:00<?, ?it/s]"
      ]
     },
     "metadata": {},
     "output_type": "display_data"
    },
    {
     "data": {
      "application/vnd.jupyter.widget-view+json": {
       "model_id": "",
       "version_major": 2,
       "version_minor": 0
      },
      "text/plain": [
       "  0%|          | 0/5426 [00:00<?, ?it/s]"
      ]
     },
     "metadata": {},
     "output_type": "display_data"
    },
    {
     "data": {
      "application/vnd.jupyter.widget-view+json": {
       "model_id": "",
       "version_major": 2,
       "version_minor": 0
      },
      "text/plain": [
       "  0%|          | 0/5427 [00:00<?, ?it/s]"
      ]
     },
     "metadata": {},
     "output_type": "display_data"
    }
   ],
   "source": [
    "train_oh_labels = one_hot_labels(train)\n",
    "valid_oh_labels = one_hot_labels(valid)\n",
    "test_oh_labels = one_hot_labels(test)"
   ]
  },
  {
   "cell_type": "code",
   "execution_count": 6,
   "id": "c5814ddf",
   "metadata": {},
   "outputs": [
    {
     "data": {
      "text/plain": [
       "(43410, 28)"
      ]
     },
     "execution_count": 6,
     "metadata": {},
     "output_type": "execute_result"
    }
   ],
   "source": [
    "train_oh_labels.shape"
   ]
  },
  {
   "cell_type": "code",
   "execution_count": 7,
   "id": "3a8c2f7f",
   "metadata": {},
   "outputs": [],
   "source": [
    "train = pd.concat([train, train_oh_labels], axis=1)\n",
    "valid = pd.concat([valid, valid_oh_labels], axis=1)\n",
    "test = pd.concat([test, test_oh_labels], axis=1)"
   ]
  },
  {
   "cell_type": "markdown",
   "id": "fbea0168",
   "metadata": {},
   "source": [
    "Quick check of the data"
   ]
  },
  {
   "cell_type": "code",
   "execution_count": 8,
   "id": "a27b7704",
   "metadata": {},
   "outputs": [
    {
     "name": "stdout",
     "output_type": "stream",
     "text": [
      "(43410, 31) (5426, 31) (5427, 31)\n"
     ]
    }
   ],
   "source": [
    "print(train.shape, valid.shape, test.shape)"
   ]
  },
  {
   "cell_type": "code",
   "execution_count": 9,
   "id": "4708947c",
   "metadata": {},
   "outputs": [
    {
     "data": {
      "text/html": [
       "<div>\n",
       "<style scoped>\n",
       "    .dataframe tbody tr th:only-of-type {\n",
       "        vertical-align: middle;\n",
       "    }\n",
       "\n",
       "    .dataframe tbody tr th {\n",
       "        vertical-align: top;\n",
       "    }\n",
       "\n",
       "    .dataframe thead th {\n",
       "        text-align: right;\n",
       "    }\n",
       "</style>\n",
       "<table border=\"1\" class=\"dataframe\">\n",
       "  <thead>\n",
       "    <tr style=\"text-align: right;\">\n",
       "      <th></th>\n",
       "      <th>text</th>\n",
       "      <th>labels</th>\n",
       "      <th>id</th>\n",
       "      <th>0</th>\n",
       "      <th>1</th>\n",
       "      <th>2</th>\n",
       "      <th>3</th>\n",
       "      <th>4</th>\n",
       "      <th>5</th>\n",
       "      <th>6</th>\n",
       "      <th>...</th>\n",
       "      <th>18</th>\n",
       "      <th>19</th>\n",
       "      <th>20</th>\n",
       "      <th>21</th>\n",
       "      <th>22</th>\n",
       "      <th>23</th>\n",
       "      <th>24</th>\n",
       "      <th>25</th>\n",
       "      <th>26</th>\n",
       "      <th>27</th>\n",
       "    </tr>\n",
       "  </thead>\n",
       "  <tbody>\n",
       "    <tr>\n",
       "      <th>0</th>\n",
       "      <td>My favourite food is anything I didn't have to cook myself.</td>\n",
       "      <td>[27]</td>\n",
       "      <td>eebbqej</td>\n",
       "      <td>0</td>\n",
       "      <td>0</td>\n",
       "      <td>0</td>\n",
       "      <td>0</td>\n",
       "      <td>0</td>\n",
       "      <td>0</td>\n",
       "      <td>0</td>\n",
       "      <td>...</td>\n",
       "      <td>0</td>\n",
       "      <td>0</td>\n",
       "      <td>0</td>\n",
       "      <td>0</td>\n",
       "      <td>0</td>\n",
       "      <td>0</td>\n",
       "      <td>0</td>\n",
       "      <td>0</td>\n",
       "      <td>0</td>\n",
       "      <td>1</td>\n",
       "    </tr>\n",
       "    <tr>\n",
       "      <th>1</th>\n",
       "      <td>Now if he does off himself, everyone will think hes having a laugh screwing with people instead of actually dead</td>\n",
       "      <td>[27]</td>\n",
       "      <td>ed00q6i</td>\n",
       "      <td>0</td>\n",
       "      <td>0</td>\n",
       "      <td>0</td>\n",
       "      <td>0</td>\n",
       "      <td>0</td>\n",
       "      <td>0</td>\n",
       "      <td>0</td>\n",
       "      <td>...</td>\n",
       "      <td>0</td>\n",
       "      <td>0</td>\n",
       "      <td>0</td>\n",
       "      <td>0</td>\n",
       "      <td>0</td>\n",
       "      <td>0</td>\n",
       "      <td>0</td>\n",
       "      <td>0</td>\n",
       "      <td>0</td>\n",
       "      <td>1</td>\n",
       "    </tr>\n",
       "    <tr>\n",
       "      <th>2</th>\n",
       "      <td>WHY THE FUCK IS BAYLESS ISOING</td>\n",
       "      <td>[2]</td>\n",
       "      <td>eezlygj</td>\n",
       "      <td>0</td>\n",
       "      <td>0</td>\n",
       "      <td>1</td>\n",
       "      <td>0</td>\n",
       "      <td>0</td>\n",
       "      <td>0</td>\n",
       "      <td>0</td>\n",
       "      <td>...</td>\n",
       "      <td>0</td>\n",
       "      <td>0</td>\n",
       "      <td>0</td>\n",
       "      <td>0</td>\n",
       "      <td>0</td>\n",
       "      <td>0</td>\n",
       "      <td>0</td>\n",
       "      <td>0</td>\n",
       "      <td>0</td>\n",
       "      <td>0</td>\n",
       "    </tr>\n",
       "    <tr>\n",
       "      <th>3</th>\n",
       "      <td>To make her feel threatened</td>\n",
       "      <td>[14]</td>\n",
       "      <td>ed7ypvh</td>\n",
       "      <td>0</td>\n",
       "      <td>0</td>\n",
       "      <td>0</td>\n",
       "      <td>0</td>\n",
       "      <td>0</td>\n",
       "      <td>0</td>\n",
       "      <td>0</td>\n",
       "      <td>...</td>\n",
       "      <td>0</td>\n",
       "      <td>0</td>\n",
       "      <td>0</td>\n",
       "      <td>0</td>\n",
       "      <td>0</td>\n",
       "      <td>0</td>\n",
       "      <td>0</td>\n",
       "      <td>0</td>\n",
       "      <td>0</td>\n",
       "      <td>0</td>\n",
       "    </tr>\n",
       "    <tr>\n",
       "      <th>4</th>\n",
       "      <td>Dirty Southern Wankers</td>\n",
       "      <td>[3]</td>\n",
       "      <td>ed0bdzj</td>\n",
       "      <td>0</td>\n",
       "      <td>0</td>\n",
       "      <td>0</td>\n",
       "      <td>1</td>\n",
       "      <td>0</td>\n",
       "      <td>0</td>\n",
       "      <td>0</td>\n",
       "      <td>...</td>\n",
       "      <td>0</td>\n",
       "      <td>0</td>\n",
       "      <td>0</td>\n",
       "      <td>0</td>\n",
       "      <td>0</td>\n",
       "      <td>0</td>\n",
       "      <td>0</td>\n",
       "      <td>0</td>\n",
       "      <td>0</td>\n",
       "      <td>0</td>\n",
       "    </tr>\n",
       "  </tbody>\n",
       "</table>\n",
       "<p>5 rows × 31 columns</p>\n",
       "</div>"
      ],
      "text/plain": [
       "                                                                                                               text  \\\n",
       "0  My favourite food is anything I didn't have to cook myself.                                                        \n",
       "1  Now if he does off himself, everyone will think hes having a laugh screwing with people instead of actually dead   \n",
       "2  WHY THE FUCK IS BAYLESS ISOING                                                                                     \n",
       "3  To make her feel threatened                                                                                        \n",
       "4  Dirty Southern Wankers                                                                                             \n",
       "\n",
       "  labels       id  0  1  2  3  4  5  6  ...  18  19  20  21  22  23  24  25  \\\n",
       "0  [27]   eebbqej  0  0  0  0  0  0  0  ...  0   0   0   0   0   0   0   0    \n",
       "1  [27]   ed00q6i  0  0  0  0  0  0  0  ...  0   0   0   0   0   0   0   0    \n",
       "2  [2]    eezlygj  0  0  1  0  0  0  0  ...  0   0   0   0   0   0   0   0    \n",
       "3  [14]   ed7ypvh  0  0  0  0  0  0  0  ...  0   0   0   0   0   0   0   0    \n",
       "4  [3]    ed0bdzj  0  0  0  1  0  0  0  ...  0   0   0   0   0   0   0   0    \n",
       "\n",
       "   26  27  \n",
       "0  0   1   \n",
       "1  0   1   \n",
       "2  0   0   \n",
       "3  0   0   \n",
       "4  0   0   \n",
       "\n",
       "[5 rows x 31 columns]"
      ]
     },
     "execution_count": 9,
     "metadata": {},
     "output_type": "execute_result"
    }
   ],
   "source": [
    "train.head()"
   ]
  },
  {
   "cell_type": "code",
   "execution_count": 10,
   "id": "a76ecd93",
   "metadata": {},
   "outputs": [
    {
     "data": {
      "text/plain": [
       "<AxesSubplot:title={'center':'distribution of labels in test'}>"
      ]
     },
     "execution_count": 10,
     "metadata": {},
     "output_type": "execute_result"
    },
    {
     "data": {
      "image/png": "[encoded data removed]",
      "text/plain": [
       "<Figure size 1080x936 with 3 Axes>"
      ]
     },
     "metadata": {
      "needs_background": "light"
     },
     "output_type": "display_data"
    }
   ],
   "source": [
    "fig = plt.figure(figsize=(15, 13))\n",
    "\n",
    "ax1 = plt.subplot(3, 1, 1)\n",
    "train[range(n_labels)].mean(axis=0).plot(kind=\"bar\", ax=ax1, title=\"distribution of labels in train\")\n",
    "\n",
    "ax2 = plt.subplot(3, 1, 2)\n",
    "valid[range(n_labels)].mean(axis=0).plot(kind=\"bar\", ax=ax2, title=\"distribution of labels in validation\")\n",
    "\n",
    "ax3 = plt.subplot(3, 1, 3)\n",
    "test[range(n_labels)].mean(axis=0).plot(kind=\"bar\", ax=ax3, title=\"distribution of labels in test\")"
   ]
  },
  {
   "cell_type": "code",
   "execution_count": 11,
   "id": "ac2ef7fc",
   "metadata": {},
   "outputs": [],
   "source": [
    "def inspect_data(label, n=5):\n",
    "    samples = train[train[label] == 1].sample(5)\n",
    "    sentiment = mapping[label]\n",
    "    \n",
    "    print(f\"examples from {sentiment}\\n\")\n",
    "    for text in samples[\"text\"]:\n",
    "        print(text + \"\\n---\")"
   ]
  },
  {
   "cell_type": "code",
   "execution_count": 12,
   "id": "df55477f",
   "metadata": {},
   "outputs": [
    {
     "name": "stdout",
     "output_type": "stream",
     "text": [
      "examples from caring\n",
      "\n",
      "R/sleeptrain Might be time for some sleep training. Take a look and try to feel out what's right for your family.\n",
      "---\n",
      "Even while [NAME] in a America are discriminated against, they still have such warm hearts. [NAME] Bless them (my [NAME], and theirs)\n",
      "---\n",
      "If you’re concerned about [NAME], then you must still be concerned about [NAME]. WAR over last 2 seasons: [NAME]: 4.8, 3.1 [NAME]: 4.0, 3.6\n",
      "---\n",
      "> it’s a low f-ing bar lbr It is indeed. But I am glad that you found a man who doesn't want anal.\n",
      "---\n",
      "Well if you're moving to Dallas, it's basically the same thing as Oklahoma and California combined. You're totally safe there!\n",
      "---\n"
     ]
    }
   ],
   "source": [
    "inspect_data(5)"
   ]
  },
  {
   "cell_type": "markdown",
   "id": "20f27620",
   "metadata": {},
   "source": [
    "Define a Pytorch dataset"
   ]
  },
  {
   "cell_type": "code",
   "execution_count": 13,
   "id": "16312f0d",
   "metadata": {},
   "outputs": [],
   "source": [
    "class GoEmotionDataset():\n",
    "    def __init__(self, texts, targets):\n",
    "        self.texts = texts\n",
    "        self.targets = targets\n",
    "        self.tokenizer = transformers.SqueezeBertTokenizer.from_pretrained(\n",
    "            \"squeezebert/squeezebert-uncased\", do_lower_case=True\n",
    "        )\n",
    "        self.max_len = 35\n",
    "        \n",
    "    def __len__(self):\n",
    "        return len(self.texts)\n",
    "    \n",
    "    def __getitem__(self, index):\n",
    "        target = self.targets[index]\n",
    "        text = self.texts[index]\n",
    "        \n",
    "        inputs = self.tokenizer.encode_plus(text, \n",
    "                                            None, \n",
    "                                            add_special_tokens=True, \n",
    "                                            max_length=self.max_len,\n",
    "                                            padding=\"max_length\",\n",
    "                                            truncation=True)\n",
    "        \n",
    "        ids = inputs[\"input_ids\"]\n",
    "        mask = inputs[\"attention_mask\"]\n",
    "        \n",
    "        return {\n",
    "            \"ids\": torch.tensor(ids, dtype=torch.long),\n",
    "            \"mask\": torch.tensor(mask, dtype=torch.long),\n",
    "            \"targets\": torch.tensor(self.targets[index], dtype=torch.long),\n",
    "        }"
   ]
  },
  {
   "cell_type": "markdown",
   "id": "24df258c",
   "metadata": {},
   "source": [
    "define a tez model"
   ]
  },
  {
   "cell_type": "code",
   "execution_count": 14,
   "id": "709da1da",
   "metadata": {},
   "outputs": [],
   "source": [
    "class config:\n",
    "    def __init__(self):\n",
    "        self.val_strategy = \"batch\"\n",
    "\n",
    "class EmotionClassifier(tez.Model):\n",
    "    def __init__(self, num_train_steps, num_classes):\n",
    "        super().__init__()\n",
    "        self.bert = transformers.SqueezeBertModel.from_pretrained(\"squeezebert/squeezebert-uncased\")\n",
    "        self.bert_drop = nn.Dropout(0.3)\n",
    "        self.out = nn.Linear(768, num_classes)\n",
    "        self.num_train_steps = num_train_steps\n",
    "        self.config = config()\n",
    "        \n",
    "    def fetch_optimizer(self):\n",
    "        param_optimizer = list(self.named_parameters())\n",
    "        no_decay = [\"bias\", \"LayerNorm.bias\"]\n",
    "        optimizer_parameters = [\n",
    "            {\n",
    "                \"params\": [\n",
    "                    p for n, p in param_optimizer if not any(nd in n for nd in no_decay)\n",
    "                ],\n",
    "                \"weight_decay\": 0.001,\n",
    "            },\n",
    "            {\n",
    "                \"params\": [\n",
    "                    p for n, p in param_optimizer if any(nd in n for nd in no_decay)\n",
    "                ],\n",
    "                \"weight_decay\": 0.0,\n",
    "            }\n",
    "        ]\n",
    "        opt = AdamW(optimizer_parameters, lr=3e-5)\n",
    "        return opt\n",
    "    \n",
    "    def fetch_scheduler(self):\n",
    "        sch = get_linear_schedule_with_warmup(\n",
    "            self.optimizer, num_warmup_steps=0, num_training_steps=self.num_train_steps\n",
    "        )\n",
    "        return sch\n",
    "    \n",
    "    def loss(self, outputs, targets):\n",
    "        if targets is None:\n",
    "            return None\n",
    "        return nn.BCEWithLogitsLoss()(outputs, targets.float())\n",
    "    \n",
    "    def monitor_metrics(self, outputs, targets):\n",
    "        if targets is None:\n",
    "            return {}\n",
    "        \n",
    "        outputs = torch.sigmoid(outputs)\n",
    "        outputs = outputs.cpu().detach().numpy()\n",
    "        targets = targets.cpu().detach().numpy()\n",
    "        \n",
    "        fpr_micro, tpr_micro, _ = metrics.roc_curve(targets.ravel(), outputs.ravel())\n",
    "        auc_micro = metrics.auc(fpr_micro, tpr_micro)\n",
    "        return {\"auc\": auc_micro}\n",
    "    \n",
    "    def forward(self, ids, mask, targets= None):\n",
    "        o_2 = self.bert(ids, attention_mask=mask)[\"pooler_output\"]\n",
    "        b_o = self.bert_drop(o_2)\n",
    "        output = self.out(b_o)\n",
    "        loss = self.loss(output, targets)\n",
    "        acc = self.monitor_metrics(output, targets)\n",
    "        return output, loss, acc"
   ]
  },
  {
   "cell_type": "markdown",
   "id": "2161a864",
   "metadata": {},
   "source": [
    "Star the training"
   ]
  },
  {
   "cell_type": "code",
   "execution_count": 15,
   "id": "a80f65a5",
   "metadata": {},
   "outputs": [],
   "source": [
    "train_dataset = GoEmotionDataset(train.text.tolist(), train[range(n_labels)].values.tolist())\n",
    "valid_dataset = GoEmotionDataset(valid.text.tolist(), valid[range(n_labels)].values.tolist())"
   ]
  },
  {
   "cell_type": "code",
   "execution_count": null,
   "id": "77462b4f",
   "metadata": {},
   "outputs": [
    {
     "name": "stderr",
     "output_type": "stream",
     "text": [
      "Some weights of the model checkpoint at squeezebert/squeezebert-uncased were not used when initializing SqueezeBertModel: ['cls.predictions.bias', 'cls.seq_relationship.weight', 'cls.predictions.transform.LayerNorm.bias', 'cls.predictions.transform.LayerNorm.weight', 'cls.predictions.decoder.weight', 'cls.predictions.transform.dense.bias', 'cls.seq_relationship.bias', 'cls.predictions.transform.dense.weight']\n",
      "- This IS expected if you are initializing SqueezeBertModel from the checkpoint of a model trained on another task or with another architecture (e.g. initializing a BertForSequenceClassification model from a BertForPreTraining model).\n",
      "- This IS NOT expected if you are initializing SqueezeBertModel from the checkpoint of a model that you expect to be exactly identical (initializing a BertForSequenceClassification model from a BertForSequenceClassification model).\n",
      "/home/calixto/Documentos/botcryptowatcher/lib/python3.9/site-packages/transformers/optimization.py:306: FutureWarning: This implementation of AdamW is deprecated and will be removed in a future version. Use the PyTorch implementation torch.optim.AdamW instead, or set `no_deprecation_warning=True` to disable this warning\n",
      "  warnings.warn(\n"
     ]
    },
    {
     "name": "stdout",
     "output_type": "stream",
     "text": [
      "NOTE: This is old Model class and is deprecated. It will no longer be maintained! Please use version > 0.5.1. Its much better and supports multi-gpu training too!\n"
     ]
    },
    {
     "name": "stderr",
     "output_type": "stream",
     "text": [
      "100%|███| 679/679 [2:19:06<00:00, 12.29s/it, auc=0.745, loss=0.191, stage=train]\n",
      "100%|████▉| 339/340 [04:30<00:00,  1.29it/s, auc=0.853, loss=0.129, stage=valid][W NNPACK.cpp:51] Could not initialize NNPACK! Reason: Unsupported hardware.\n",
      "100%|█████| 340/340 [04:30<00:00,  1.26it/s, auc=0.853, loss=0.129, stage=valid]\n",
      "2022-05-01 23:34:32,097 INFO \n",
      "Score improved (inf --> 0.1286448286517578). Saving model!\n",
      " 36%|█  | 246/679 [51:08<1:35:20, 13.21s/it, auc=0.862, loss=0.125, stage=train]"
     ]
    }
   ],
   "source": [
    "n_train_steps = int(len(train) / 32 * 10)\n",
    "model = EmotionClassifier(n_train_steps, n_labels)\n",
    "\n",
    "tb_logger = tez.callbacks.TensorBoardLogger(log_dir=\"logs/\")\n",
    "es = tez.callbacks.EarlyStopping(monitor=\"valid_loss\", model_path=\"export/model.bin\")\n",
    "\n",
    "model.fit(train_dataset, \n",
    "          valid_dataset, \n",
    "          train_bs=64, \n",
    "          device=\"cpu\", \n",
    "          epochs=8, \n",
    "          callbacks=[tb_logger, es], \n",
    "          fp16=True, \n",
    "          n_jobs=10)"
   ]
  },
  {
   "cell_type": "code",
   "execution_count": null,
   "id": "201a1f83",
   "metadata": {},
   "outputs": [],
   "source": []
  }
 ],
 "metadata": {
  "kernelspec": {
   "display_name": "Python 3 (ipykernel)",
   "language": "python",
   "name": "python3"
  },
  "language_info": {
   "codemirror_mode": {
    "name": "ipython",
    "version": 3
   },
   "file_extension": ".py",
   "mimetype": "text/x-python",
   "name": "python",
   "nbconvert_exporter": "python",
   "pygments_lexer": "ipython3",
   "version": "3.9.12"
  }
 },
 "nbformat": 4,
 "nbformat_minor": 5
}
